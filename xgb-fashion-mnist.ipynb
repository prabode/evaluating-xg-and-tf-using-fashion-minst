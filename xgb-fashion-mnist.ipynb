{
 "cells": [
  {
   "attachments": {},
   "cell_type": "markdown",
   "metadata": {},
   "source": [
    "Evaluation of the Fashion-MINST Database Using Ensemble-based XGBoost and Neural Network-based TensorFlow Models\n",
    "\n",
    "Author: Prabode Weebadde\n",
    "\n",
    "Note:\n",
    "\n",
    "To install GPU support on Macbook Pro M2 Max chip follow the excellent tutorial by J. Hanson.\n",
    "https://www.youtube.com/watch?v=5DgWvU0p2bk\n",
    "\n",
    "Credits\n",
    "\n",
    "SUBHAYAN SAMANTA, https://www.kaggle.com/code/subhayan2018/exploring-xgboost-with-fashion-mnist\n"
   ]
  },
  {
   "cell_type": "code",
   "execution_count": null,
   "metadata": {},
   "outputs": [],
   "source": [
    "# make sure you have the imported libraries if not you can uncomment the following lines to install them. \n",
    "# After installation comment the lines again.\n",
    "# !!! pip install pandas\n",
    "# !!! pip install numpy\n",
    "# !!! pip install matplotlib\n",
    "# !!! pip install seaborn\n",
    "# !!! pip install scikit-learn\n",
    "# !!! pip install sklearn\n",
    "# !!! pip install xgboost\n",
    "# !!! pip install keras\n",
    "# !!! pip install pandas"
   ]
  },
  {
   "cell_type": "code",
   "execution_count": 56,
   "metadata": {},
   "outputs": [],
   "source": [
    "\n",
    "import pandas as pd\n",
    "import numpy as np\n",
    "import matplotlib.pyplot as plt\n",
    "import seaborn as sns\n",
    "import pandas as pd\n",
    "import keras as k\n",
    "from sklearn.metrics import classification_report\n",
    "sns.set()\n",
    "import time\n",
    "%matplotlib inline"
   ]
  },
  {
   "cell_type": "code",
   "execution_count": 57,
   "metadata": {},
   "outputs": [],
   "source": [
    "# these are helper methods created to load data and get the human readable name for the category\n",
    "def load_mnist(path, kind='train'):\n",
    "    import os\n",
    "    import gzip\n",
    "    import numpy as np\n",
    "\n",
    "    \"\"\"Load MNIST data from `path`\"\"\"\n",
    "    labels_path = os.path.join(path,\n",
    "                               '%s-labels-idx1-ubyte.gz'\n",
    "                               % kind)\n",
    "    images_path = os.path.join(path,\n",
    "                               '%s-images-idx3-ubyte.gz'\n",
    "                               % kind)\n",
    "\n",
    "    with gzip.open(labels_path, 'rb') as lbpath:\n",
    "        labels = np.frombuffer(lbpath.read(), dtype=np.uint8,\n",
    "                               offset=8)\n",
    "\n",
    "    with gzip.open(images_path, 'rb') as imgpath:\n",
    "        images = np.frombuffer(imgpath.read(), dtype=np.uint8,\n",
    "                               offset=16).reshape(len(labels), 784)\n",
    "\n",
    "    return images, labels\n",
    "\n",
    "def category_name(category_id):\n",
    "    \"\"\"Load Fashion-MNIST category name by category id.\"\"\"\n",
    "    cats = {0:\"T-shirt/top\",1:\"Trouser\",2:\"Pullover\",3:\"Dress\",4:\"Coat\",5:\"Sandal\",6:\"Shirt\",7:\"Sneaker\",8:\"Bag\",9:\"Ankle boot\"}\n",
    "    return cats[category_id]\n",
    "\n",
    "def plot_image(img, label):\n",
    "  plt.grid(False)\n",
    "  plt.xticks([])\n",
    "  plt.yticks([])\n",
    "  plt.imshow(img, cmap=plt.cm.binary)\n",
    "  plt.xlabel(label)"
   ]
  },
  {
   "cell_type": "code",
   "execution_count": 58,
   "metadata": {},
   "outputs": [],
   "source": [
    "x_train, y_train = load_mnist('data/fashion', kind='train')\n",
    "x_test, y_test = load_mnist('data/fashion', kind='t10k')"
   ]
  },
  {
   "cell_type": "code",
   "execution_count": 59,
   "metadata": {},
   "outputs": [
    {
     "name": "stdout",
     "output_type": "stream",
     "text": [
      "training images (60000, 784) <class 'numpy.ndarray'>\n",
      "training labels (60000,) <class 'numpy.ndarray'>\n",
      "testing images (10000, 784) <class 'numpy.ndarray'>\n",
      "testing labels (10000,) <class 'numpy.ndarray'>\n"
     ]
    }
   ],
   "source": [
    "print(\"training images\",x_train.shape, type(x_train))\n",
    "print(\"training labels\",y_train.shape, type(y_train))\n",
    "print(\"testing images\",x_test.shape, type(x_train))\n",
    "print(\"testing labels\",y_test.shape, type(y_train))"
   ]
  },
  {
   "cell_type": "code",
   "execution_count": 60,
   "metadata": {},
   "outputs": [
    {
     "data": {
      "image/png": "[encoded data removed]",
      "text/plain": [
       "<Figure size 640x480 with 1 Axes>"
      ]
     },
     "metadata": {},
     "output_type": "display_data"
    }
   ],
   "source": [
    "plot_image(x_train[1].reshape((28,28)),category_name(y_train[1]))"
   ]
  },
  {
   "cell_type": "code",
   "execution_count": 61,
   "metadata": {},
   "outputs": [
    {
     "data": {
      "image/png": "[encoded data removed]",
      "text/plain": [
       "<Figure size 640x480 with 1 Axes>"
      ]
     },
     "metadata": {},
     "output_type": "display_data"
    }
   ],
   "source": [
    "plot_image(x_test[1].reshape((28,28)),category_name(y_test[1]))"
   ]
  },
  {
   "cell_type": "code",
   "execution_count": 62,
   "metadata": {},
   "outputs": [],
   "source": [
    "# set up xgboost \n",
    "from xgboost import XGBClassifier\n",
    "from sklearn.metrics import accuracy_score, confusion_matrix, f1_score, precision_score, recall_score"
   ]
  },
  {
   "cell_type": "code",
   "execution_count": 82,
   "metadata": {},
   "outputs": [
    {
     "name": "stdout",
     "output_type": "stream",
     "text": [
      "<bound method XGBModel.get_params of XGBClassifier(base_score=None, booster=None, callbacks=None,\n",
      "              colsample_bylevel=None, colsample_bynode=None,\n",
      "              colsample_bytree=None, early_stopping_rounds=None,\n",
      "              enable_categorical=False, eval_metric=None, feature_types=None,\n",
      "              gamma=None, gpu_id=None, grow_policy=None, importance_type=None,\n",
      "              interaction_constraints=None, learning_rate=0.5, max_bin=None,\n",
      "              max_cat_threshold=None, max_cat_to_onehot=None,\n",
      "              max_delta_step=None, max_depth=None, max_leaves=None,\n",
      "              min_child_weight=1, missing=nan, monotone_constraints=None,\n",
      "              n_estimators=500, n_jobs=-1, num_parallel_tree=None,\n",
      "              objective='multi:softprob', predictor=None, ...)>\n",
      "Training time: 743.6444802284241s\n"
     ]
    }
   ],
   "source": [
    "# training model with best guess hyperparameters\n",
    "start = time.time()\n",
    "xgb_clf_one = XGBClassifier(n_estimators=500, n_jobs=-1, learning_rate=0.5, min_child_weight= 1, reg_lambda =20, seed=0)\n",
    "xgb_clf_one.fit(x_train,y_train)\n",
    "stop = time.time()\n",
    "print(xgb_clf_one.get_params)\n",
    "print(f\"Training time: {stop - start}s\")"
   ]
  },
  {
   "cell_type": "code",
   "execution_count": 83,
   "metadata": {},
   "outputs": [
    {
     "name": "stdout",
     "output_type": "stream",
     "text": [
      "generating classification report for xgb_clf_one\n",
      "              precision    recall  f1-score   support\n",
      "\n",
      "           0       0.86      0.87      0.86      1000\n",
      "           1       0.99      0.98      0.99      1000\n",
      "           2       0.82      0.85      0.84      1000\n",
      "           3       0.90      0.92      0.91      1000\n",
      "           4       0.84      0.85      0.84      1000\n",
      "           5       0.99      0.97      0.98      1000\n",
      "           6       0.76      0.70      0.73      1000\n",
      "           7       0.94      0.97      0.96      1000\n",
      "           8       0.97      0.98      0.97      1000\n",
      "           9       0.97      0.96      0.96      1000\n",
      "\n",
      "    accuracy                           0.90     10000\n",
      "   macro avg       0.90      0.90      0.90     10000\n",
      "weighted avg       0.90      0.90      0.90     10000\n",
      "\n"
     ]
    }
   ],
   "source": [
    "pred = xgb_clf_one.predict(x_test)\n",
    "print('generating classification report for xgb_clf_one')\n",
    "print(classification_report(y_test,pred))"
   ]
  },
  {
   "cell_type": "code",
   "execution_count": 66,
   "metadata": {},
   "outputs": [
    {
     "name": "stdout",
     "output_type": "stream",
     "text": [
      "Fitting 5 folds for each of 16 candidates, totalling 80 fits\n",
      "Best parameters: {'colsample_bytree': 0.7, 'learning_rate': 0.05, 'max_depth': 6, 'n_estimators': 500}\n",
      "Lowest RMSE:  1.1592813866069502\n"
     ]
    }
   ],
   "source": [
    "# GridSearchCV model tuning \n",
    "# Credits: David Martins\n",
    "# URL: https://towardsdatascience.com/\n",
    "#      xgboost-fine-tune-and-optimize-your-model-23d996fab663\n",
    "\n",
    "from sklearn.model_selection import GridSearchCV\n",
    "\n",
    "params = { 'max_depth': [3,6],\n",
    "           'learning_rate': [0.01, 0.05,],\n",
    "           'n_estimators': [100, 500],\n",
    "           'colsample_bytree': [0.3, 0.7]}\n",
    "xgbr = XGBClassifier(seed = 20)\n",
    "clf = GridSearchCV(estimator=xgbr, \n",
    "                   param_grid=params,\n",
    "                   scoring='neg_mean_squared_error', \n",
    "                   verbose=1)\n",
    "clf.fit(x_train, y_train)\n",
    "print(\"Best parameters:\", clf.best_params_)\n",
    "print(\"Lowest RMSE: \", (-clf.best_score_)**(1/2.0))\n",
    "\n"
   ]
  },
  {
   "cell_type": "code",
   "execution_count": 80,
   "metadata": {},
   "outputs": [
    {
     "name": "stdout",
     "output_type": "stream",
     "text": [
      "<bound method XGBModel.get_params of XGBClassifier(base_score=None, booster=None, callbacks=None,\n",
      "              colsample_bylevel=None, colsample_bynode=None,\n",
      "              colsample_bytree=0.7, early_stopping_rounds=None,\n",
      "              enable_categorical=False, eval_metric=None, feature_types=None,\n",
      "              gamma=None, gpu_id=None, grow_policy=None, importance_type=None,\n",
      "              interaction_constraints=None, learning_rate=0.05, max_bin=None,\n",
      "              max_cat_threshold=None, max_cat_to_onehot=None,\n",
      "              max_delta_step=None, max_depth=6, max_leaves=None,\n",
      "              min_child_weight=None, missing=nan, monotone_constraints=None,\n",
      "              n_estimators=500, n_jobs=None, num_parallel_tree=None,\n",
      "              objective='multi:softprob', predictor=None, ...)>\n",
      "Training time: 549.2710139751434s\n"
     ]
    }
   ],
   "source": [
    "# training model with GridSearchCV hyperparameters\n",
    "start = time.time()\n",
    "xgb_clf_two = XGBClassifier(n_estimators=500, learning_rate=0.05, colsample_bytree=0.7, max_depth=6, seed=0)\n",
    "xgb_clf_two.fit(x_train,y_train)\n",
    "stop = time.time()\n",
    "print(xgb_clf_two.get_params)\n",
    "print(f\"Training time: {stop - start}s\")"
   ]
  },
  {
   "cell_type": "code",
   "execution_count": 81,
   "metadata": {},
   "outputs": [
    {
     "name": "stdout",
     "output_type": "stream",
     "text": [
      "generating classification report for xgb_clf_two\n",
      "              precision    recall  f1-score   support\n",
      "\n",
      "           0       0.85      0.87      0.86      1000\n",
      "           1       1.00      0.97      0.99      1000\n",
      "           2       0.81      0.84      0.82      1000\n",
      "           3       0.90      0.92      0.91      1000\n",
      "           4       0.82      0.84      0.83      1000\n",
      "           5       0.99      0.97      0.98      1000\n",
      "           6       0.73      0.68      0.71      1000\n",
      "           7       0.95      0.97      0.96      1000\n",
      "           8       0.98      0.98      0.98      1000\n",
      "           9       0.96      0.96      0.96      1000\n",
      "\n",
      "    accuracy                           0.90     10000\n",
      "   macro avg       0.90      0.90      0.90     10000\n",
      "weighted avg       0.90      0.90      0.90     10000\n",
      "\n"
     ]
    }
   ],
   "source": [
    "pred = xgb_clf_two.predict(x_test)\n",
    "print('generating classification report for xgb_clf_two')\n",
    "print(classification_report(y_test,pred))"
   ]
  },
  {
   "cell_type": "markdown",
   "metadata": {},
   "source": []
  },
  {
   "cell_type": "code",
   "execution_count": 72,
   "metadata": {},
   "outputs": [
    {
     "name": "stdout",
     "output_type": "stream",
     "text": [
      "<bound method XGBModel.get_params of XGBClassifier(base_score=None, booster=None, callbacks=None,\n",
      "              colsample_bylevel=None, colsample_bynode=None,\n",
      "              colsample_bytree=0.7, early_stopping_rounds=None,\n",
      "              enable_categorical=False, eval_metric=None, feature_types=None,\n",
      "              gamma=None, gpu_id=None, grow_policy=None, importance_type=None,\n",
      "              interaction_constraints=None, learning_rate=0.5, max_bin=None,\n",
      "              max_cat_threshold=None, max_cat_to_onehot=None,\n",
      "              max_delta_step=None, max_depth=6, max_leaves=None,\n",
      "              min_child_weight=1, missing=nan, monotone_constraints=None,\n",
      "              n_estimators=500, n_jobs=-1, num_parallel_tree=None,\n",
      "              objective='multi:softprob', predictor=None, ...)>\n",
      "Training time: 528.6568138599396s\n",
      "test accuracy\n",
      "0.9059\n"
     ]
    }
   ],
   "source": [
    "# training model with best guess hyperparameters 2\n",
    "start = time.time()\n",
    "xgb_clf_three = XGBClassifier(n_estimators=500, n_jobs=-1, learning_rate=0.5,colsample_bytree=0.7, max_depth=6, min_child_weight=1, reg_lambda=20, seed=0)\n",
    "xgb_clf_three.fit(x_train,y_train)\n",
    "stop = time.time()\n",
    "print(xgb_clf_three.get_params)\n",
    "print(f\"Training time: {stop - start}s\")"
   ]
  },
  {
   "cell_type": "code",
   "execution_count": 79,
   "metadata": {},
   "outputs": [
    {
     "name": "stdout",
     "output_type": "stream",
     "text": [
      "generating classification report for xgb_clf_three\n",
      "              precision    recall  f1-score   support\n",
      "\n",
      "           0       0.85      0.87      0.86      1000\n",
      "           1       0.99      0.97      0.98      1000\n",
      "           2       0.82      0.86      0.84      1000\n",
      "           3       0.91      0.91      0.91      1000\n",
      "           4       0.84      0.85      0.84      1000\n",
      "           5       0.99      0.97      0.98      1000\n",
      "           6       0.76      0.70      0.73      1000\n",
      "           7       0.95      0.97      0.96      1000\n",
      "           8       0.97      0.98      0.97      1000\n",
      "           9       0.97      0.96      0.97      1000\n",
      "\n",
      "    accuracy                           0.91     10000\n",
      "   macro avg       0.91      0.91      0.91     10000\n",
      "weighted avg       0.91      0.91      0.91     10000\n",
      "\n"
     ]
    }
   ],
   "source": [
    "pred = xgb_clf_three.predict(x_test)\n",
    "print('generating classification report for xgb_clf_three')\n",
    "print(classification_report(y_test,pred))"
   ]
  },
  {
   "cell_type": "code",
   "execution_count": 77,
   "metadata": {},
   "outputs": [
    {
     "name": "stdout",
     "output_type": "stream",
     "text": [
      "<bound method XGBModel.get_params of XGBClassifier(base_score=None, booster=None, callbacks=None,\n",
      "              colsample_bylevel=None, colsample_bynode=None,\n",
      "              colsample_bytree=None, early_stopping_rounds=None,\n",
      "              enable_categorical=False, eval_metric=None, feature_types=None,\n",
      "              gamma=None, gpu_id=None, grow_policy=None, importance_type=None,\n",
      "              interaction_constraints=None, learning_rate=0.5, max_bin=None,\n",
      "              max_cat_threshold=None, max_cat_to_onehot=None,\n",
      "              max_delta_step=None, max_depth=None, max_leaves=None,\n",
      "              min_child_weight=None, missing=nan, monotone_constraints=None,\n",
      "              n_estimators=500, n_jobs=-1, num_parallel_tree=None,\n",
      "              objective='multi:softprob', predictor=None, ...)>\n",
      "Training time: 598.790778875351s\n"
     ]
    }
   ],
   "source": [
    "# training model with best guess hyperparameters 3\n",
    "start = time.time()\n",
    "xgb_clf_four = XGBClassifier(n_estimators=500, n_jobs=-1, learning_rate=0.5, seed=0)\n",
    "xgb_clf_four.fit(x_train,y_train)\n",
    "stop = time.time()\n",
    "print(xgb_clf_four.get_params)\n",
    "print(f\"Training time: {stop - start}s\")"
   ]
  },
  {
   "cell_type": "code",
   "execution_count": 78,
   "metadata": {},
   "outputs": [
    {
     "name": "stdout",
     "output_type": "stream",
     "text": [
      "generating classification report for xgb_clf_four\n",
      "              precision    recall  f1-score   support\n",
      "\n",
      "           0       0.86      0.88      0.87      1000\n",
      "           1       0.99      0.98      0.99      1000\n",
      "           2       0.81      0.84      0.83      1000\n",
      "           3       0.91      0.92      0.91      1000\n",
      "           4       0.84      0.85      0.84      1000\n",
      "           5       0.99      0.97      0.98      1000\n",
      "           6       0.77      0.70      0.73      1000\n",
      "           7       0.94      0.97      0.96      1000\n",
      "           8       0.97      0.98      0.97      1000\n",
      "           9       0.96      0.96      0.96      1000\n",
      "\n",
      "    accuracy                           0.91     10000\n",
      "   macro avg       0.90      0.91      0.90     10000\n",
      "weighted avg       0.90      0.91      0.90     10000\n",
      "\n"
     ]
    }
   ],
   "source": [
    "pred = xgb_clf_four.predict(x_test)\n",
    "print('generating classification report for xgb_clf_four')\n",
    "print(classification_report(y_test,pred))"
   ]
  },
  {
   "cell_type": "code",
   "execution_count": null,
   "metadata": {},
   "outputs": [],
   "source": [
    "# saving the best performed model xgb_clf_three\n",
    "xgb_clf_three.save_model('saved_model/xgb_model.bin')"
   ]
  }
 ],
 "metadata": {
  "kernelspec": {
   "display_name": "Python 3",
   "language": "python",
   "name": "python3"
  },
  "language_info": {
   "codemirror_mode": {
    "name": "ipython",
    "version": 3
   },
   "file_extension": ".py",
   "mimetype": "text/x-python",
   "name": "python",
   "nbconvert_exporter": "python",
   "pygments_lexer": "ipython3",
   "version": "3.10.10"
  }
 },
 "nbformat": 4,
 "nbformat_minor": 1
}
